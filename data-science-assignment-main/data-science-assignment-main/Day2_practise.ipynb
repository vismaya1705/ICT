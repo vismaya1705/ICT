{
  "nbformat": 4,
  "nbformat_minor": 0,
  "metadata": {
    "colab": {
      "provenance": [],
      "authorship_tag": "ABX9TyOtitF4Uqy/f4GgDRCVQeJC",
      "include_colab_link": true
    },
    "kernelspec": {
      "name": "python3",
      "display_name": "Python 3"
    },
    "language_info": {
      "name": "python"
    }
  },
  "cells": [
    {
      "cell_type": "markdown",
      "metadata": {
        "id": "view-in-github",
        "colab_type": "text"
      },
      "source": [
        "<a href=\"https://colab.research.google.com/github/Vismayamohan17/data-science-assignment/blob/main/Day2_practise.ipynb\" target=\"_parent\"><img src=\"https://colab.research.google.com/assets/colab-badge.svg\" alt=\"Open In Colab\"/></a>"
      ]
    },
    {
      "cell_type": "markdown",
      "source": [
        "Given the string \"Hello, World!\", extract and print the\n",
        "substring \"Hello\"."
      ],
      "metadata": {
        "id": "D0VZjO6qpi7C"
      }
    },
    {
      "cell_type": "code",
      "execution_count": 1,
      "metadata": {
        "colab": {
          "base_uri": "https://localhost:8080/"
        },
        "id": "Zcd63q0rpaj-",
        "outputId": "33dc91e3-a976-4105-e064-4718b202cb82"
      },
      "outputs": [
        {
          "output_type": "stream",
          "name": "stdout",
          "text": [
            "Hello\n"
          ]
        }
      ],
      "source": [
        "string = \"Hello, World!\"\n",
        "substring = string[0:5]\n",
        "print(substring)\n"
      ]
    },
    {
      "cell_type": "markdown",
      "source": [
        "Given the string \"Python is fun\", extract and print the\n",
        "substring \"is\"."
      ],
      "metadata": {
        "id": "gkjW3qpdpgDT"
      }
    },
    {
      "cell_type": "code",
      "source": [
        "string = \"Python is fun\"\n",
        "substring = string[7:9]\n",
        "print(substring)\n"
      ],
      "metadata": {
        "colab": {
          "base_uri": "https://localhost:8080/"
        },
        "id": "8ilgZKs9plU1",
        "outputId": "dd6fcdaf-aa90-4536-c583-78fbd40be700"
      },
      "execution_count": 2,
      "outputs": [
        {
          "output_type": "stream",
          "name": "stdout",
          "text": [
            "is\n"
          ]
        }
      ]
    },
    {
      "cell_type": "markdown",
      "source": [
        "Given the string \"Programming\", extract and print the\n",
        "substring \"gram\" using slicing indices."
      ],
      "metadata": {
        "id": "Zrar3NzgqhHM"
      }
    },
    {
      "cell_type": "code",
      "source": [
        "string = \"Programming\"\n",
        "substring = string[3:7]\n",
        "print(substring)\n"
      ],
      "metadata": {
        "colab": {
          "base_uri": "https://localhost:8080/"
        },
        "id": "Q-fYdtB8qZoH",
        "outputId": "ff290e86-3aff-4348-c6cd-e1fc4e2c4be0"
      },
      "execution_count": 3,
      "outputs": [
        {
          "output_type": "stream",
          "name": "stdout",
          "text": [
            "gram\n"
          ]
        }
      ]
    },
    {
      "cell_type": "markdown",
      "source": [
        "Given the string \"abcdefgh\", use slicing to print only the\n",
        "characters at even indices."
      ],
      "metadata": {
        "id": "6rk4mXXkqocl"
      }
    },
    {
      "cell_type": "code",
      "source": [
        "string=\"abcdefgh\"\n",
        "substring=string[1:8:2]\n",
        "print(substring)"
      ],
      "metadata": {
        "colab": {
          "base_uri": "https://localhost:8080/"
        },
        "id": "8zJ3vAfeqidj",
        "outputId": "34117337-c0d0-4875-b9ae-ef3539fc108b"
      },
      "execution_count": 5,
      "outputs": [
        {
          "output_type": "stream",
          "name": "stdout",
          "text": [
            "bdfh\n"
          ]
        }
      ]
    },
    {
      "cell_type": "markdown",
      "source": [
        "Given the string \"abcdefg\", use negative indices to extract\n",
        "and print the substring \"efg\"."
      ],
      "metadata": {
        "id": "xTRubSqXq-Ho"
      }
    },
    {
      "cell_type": "code",
      "source": [
        "string=\"abcdefg\"\n",
        "substring=string[-3:]\n",
        "print(substring)"
      ],
      "metadata": {
        "colab": {
          "base_uri": "https://localhost:8080/"
        },
        "id": "l7XWxvbeq1er",
        "outputId": "fa175b89-320c-433d-cbbe-972237175243"
      },
      "execution_count": 8,
      "outputs": [
        {
          "output_type": "stream",
          "name": "stdout",
          "text": [
            "efg\n"
          ]
        }
      ]
    },
    {
      "cell_type": "markdown",
      "source": [
        "Given the string \"Data Science\", use negative indices to\n",
        "extract and print the last three characters."
      ],
      "metadata": {
        "id": "hsAkKEwZrYbn"
      }
    },
    {
      "cell_type": "code",
      "source": [
        "string=\"Data Science\"\n",
        "substring=string[-3:]\n",
        "print(substring)"
      ],
      "metadata": {
        "colab": {
          "base_uri": "https://localhost:8080/"
        },
        "id": "WcUfztbTrHqW",
        "outputId": "57ad2aea-79e4-4d7c-f890-af489cdc9267"
      },
      "execution_count": 9,
      "outputs": [
        {
          "output_type": "stream",
          "name": "stdout",
          "text": [
            "nce\n"
          ]
        }
      ]
    },
    {
      "cell_type": "markdown",
      "source": [
        "Given the string \"abcdefghij\", use slicing with a step to\n",
        "print every second character."
      ],
      "metadata": {
        "id": "2V5BJNnVrn1j"
      }
    },
    {
      "cell_type": "code",
      "source": [
        "string = \"abcdefghij\"\n",
        "substring = string[::2]\n",
        "print(substring)\n"
      ],
      "metadata": {
        "colab": {
          "base_uri": "https://localhost:8080/"
        },
        "id": "zvk9Tfzxrjjv",
        "outputId": "1e07496b-2e00-489d-9169-5e617180a9f0"
      },
      "execution_count": 11,
      "outputs": [
        {
          "output_type": "stream",
          "name": "stdout",
          "text": [
            "acegi\n"
          ]
        }
      ]
    },
    {
      "cell_type": "markdown",
      "source": [
        "Given the string \"1234567890\", use slicing with a step to\n",
        "print the odd digits."
      ],
      "metadata": {
        "id": "HLb7qeO7sBKj"
      }
    },
    {
      "cell_type": "code",
      "source": [
        "string=\"1234567890\"\n",
        "substring=string[0:10:2]\n",
        "print(substring)"
      ],
      "metadata": {
        "colab": {
          "base_uri": "https://localhost:8080/"
        },
        "id": "JPgLHKQ3r32Z",
        "outputId": "3b7fd2bf-26f7-44aa-c33d-efae62154d6f"
      },
      "execution_count": 14,
      "outputs": [
        {
          "output_type": "stream",
          "name": "stdout",
          "text": [
            "13579\n"
          ]
        }
      ]
    },
    {
      "cell_type": "markdown",
      "source": [
        "Given the string \"Hello\", use slicing to print the string in\n",
        "reverse order."
      ],
      "metadata": {
        "id": "MKjgmudMsV6i"
      }
    },
    {
      "cell_type": "code",
      "source": [
        "string=\"Hello\"\n",
        "reverse=string[::-1]\n",
        "print(reverse)"
      ],
      "metadata": {
        "colab": {
          "base_uri": "https://localhost:8080/"
        },
        "id": "yVyybBJPsRI0",
        "outputId": "9a3e674f-2c44-48cd-9a2b-d3c632f15ee9"
      },
      "execution_count": 22,
      "outputs": [
        {
          "output_type": "stream",
          "name": "stdout",
          "text": [
            "olleH\n"
          ]
        }
      ]
    },
    {
      "cell_type": "markdown",
      "source": [
        "Given the string \"abcdefghijk\", extract and print the\n",
        "substring \"acegik\" using slicing."
      ],
      "metadata": {
        "id": "6adyC27Es4m-"
      }
    },
    {
      "cell_type": "code",
      "source": [
        "string=\"abcdefghijk\"\n",
        "substring=string[0:11:2]\n",
        "print(substring)"
      ],
      "metadata": {
        "colab": {
          "base_uri": "https://localhost:8080/"
        },
        "id": "iLPgex0bsRMp",
        "outputId": "eaed717d-fcfe-4b40-f5ca-6fec08625878"
      },
      "execution_count": 23,
      "outputs": [
        {
          "output_type": "stream",
          "name": "stdout",
          "text": [
            "acegik\n"
          ]
        }
      ]
    },
    {
      "cell_type": "markdown",
      "source": [
        "Write a program to find sum of all elements in a list of\n",
        "integers.\n"
      ],
      "metadata": {
        "id": "QweHq9T6tGYz"
      }
    },
    {
      "cell_type": "code",
      "source": [
        "numbers=[2,4,6,10,13]\n",
        "sum=0\n",
        "for i in numbers:\n",
        "  sum+=i\n",
        "print(\"Sum =\",sum)"
      ],
      "metadata": {
        "colab": {
          "base_uri": "https://localhost:8080/"
        },
        "id": "HNbQ-ah9tE1W",
        "outputId": "249188d0-81ab-44c2-fbc7-6dbdc397962e"
      },
      "execution_count": 27,
      "outputs": [
        {
          "output_type": "stream",
          "name": "stdout",
          "text": [
            "Sum = 35\n"
          ]
        }
      ]
    },
    {
      "cell_type": "markdown",
      "source": [
        "Input a sentence as a string.\n",
        "a) Print its length\n",
        "b) Print the first half of string"
      ],
      "metadata": {
        "id": "0d0ryRC5tnoK"
      }
    },
    {
      "cell_type": "code",
      "source": [
        "string=input(\"Enter a sentence : \")\n",
        "length = len(string)\n",
        "print(\"Length = \",length)\n",
        "first_half=string[:len(string)//2]\n",
        "print(\"First half : \",first_half)\n"
      ],
      "metadata": {
        "colab": {
          "base_uri": "https://localhost:8080/"
        },
        "id": "m3s5u87HtUke",
        "outputId": "bb668ad3-1e9c-49ff-816f-bfa41e0b50ac"
      },
      "execution_count": 30,
      "outputs": [
        {
          "output_type": "stream",
          "name": "stdout",
          "text": [
            "Enter a sentence : English\n",
            "Length =  7\n",
            "First half :  Eng\n"
          ]
        }
      ]
    },
    {
      "cell_type": "markdown",
      "source": [
        "Write a program to enter a tuple of integers as\n",
        "(78,45,32,19,82,77,40,39). Change the third value in the tuple to 100"
      ],
      "metadata": {
        "id": "gAwpvXRDuXBO"
      }
    },
    {
      "cell_type": "code",
      "source": [
        "numbers=(78,45,32,19,82,77,40,39)\n",
        "number_1=list(numbers)\n",
        "number_1[2]=100\n",
        "print(number_1)"
      ],
      "metadata": {
        "colab": {
          "base_uri": "https://localhost:8080/"
        },
        "id": "RNcDIpEZuF31",
        "outputId": "2036797f-10be-4cb6-9a67-beb3c1ae2a42"
      },
      "execution_count": 35,
      "outputs": [
        {
          "output_type": "stream",
          "name": "stdout",
          "text": [
            "[78, 45, 100, 19, 82, 77, 40, 39]\n"
          ]
        }
      ]
    },
    {
      "cell_type": "markdown",
      "source": [
        "Consider a list\n",
        "listA=[19,32,10,55,31,32,94,29,10,65,77,40,40]\n",
        "(a) Delete the first occurrence of 32\n",
        "(b) Delete all occurrences of 40\n",
        "(c) Delete the value at index=5\n",
        "(d) Modify the value at index=9 as 300\n",
        "(e) Add 200 at index=2\n",
        "(f) Print the final list with its length, maximum value\n",
        "and sum of all elements"
      ],
      "metadata": {
        "id": "WJlT-7s0vJmQ"
      }
    },
    {
      "cell_type": "code",
      "source": [
        "listA = [19, 32, 10, 55, 31, 32, 94, 29, 10, 65, 77, 40, 40]\n",
        "listA.remove(32)\n",
        "listA = [x for x in listA if x != 40]\n",
        "del listA[5]\n",
        "listA.insert(9, 300)\n",
        "listA.insert(2, 200)\n",
        "\n",
        "print(\"Final list:\", listA)\n",
        "print(\"Length of list:\", len(listA))\n",
        "print(\"Maximum value in list:\", max(listA))\n",
        "sum=0\n",
        "for i in listA:\n",
        "  sum+=i\n",
        "print(\"Sum : \",sum)\n"
      ],
      "metadata": {
        "colab": {
          "base_uri": "https://localhost:8080/"
        },
        "id": "ajZm1mrcu0dB",
        "outputId": "d605a432-cd1a-4fae-9914-67adda363eea"
      },
      "execution_count": 41,
      "outputs": [
        {
          "output_type": "stream",
          "name": "stdout",
          "text": [
            "Final list: [19, 10, 200, 55, 31, 32, 29, 10, 65, 77, 300]\n",
            "Length of list: 11\n",
            "Maximum value in list: 300\n",
            "Sum :  828\n"
          ]
        }
      ]
    },
    {
      "cell_type": "markdown",
      "source": [
        "Consider a string ”The day has been long”.\n",
        "(a) Delete the value at index =4\n",
        "(b) Print the string 4 times in a single line with space\n",
        "between each repetition\n",
        "(c) Print the string 3 times in a new line each time\n",
        "(d) Modify the string at index 7 as ’A’\n",
        "(e) Print the string from index 4 to 15\n",
        "(f) Print the final string with its length"
      ],
      "metadata": {
        "id": "QgLXOaqZy08g"
      }
    },
    {
      "cell_type": "code",
      "source": [
        "string = \"The day has been long\"\n",
        "string = string[:4] + string[5:]\n",
        "print(\"After deletion at index 4:\", string)\n",
        "print(\" \".join([string] * 4))\n",
        "print((string + \"\\n\") * 3)\n",
        "string = string[:7] + 'A' + string[8:]\n",
        "print(\"After modification at index 7:\", string)\n",
        "print(\"Substring from index 4 to 15:\", string[4:16])\n",
        "print(\"Final string:\", string)\n",
        "print(\"Length of the string:\", len(string))\n"
      ],
      "metadata": {
        "colab": {
          "base_uri": "https://localhost:8080/"
        },
        "id": "rupBiqJVve8P",
        "outputId": "d90a0291-86f8-4a97-b796-d09bffc54e5c"
      },
      "execution_count": 43,
      "outputs": [
        {
          "output_type": "stream",
          "name": "stdout",
          "text": [
            "After deletion at index 4: The ay has been long\n",
            "The ay has been long The ay has been long The ay has been long The ay has been long\n",
            "The ay has been long\n",
            "The ay has been long\n",
            "The ay has been long\n",
            "\n",
            "After modification at index 7: The ay Aas been long\n",
            "Substring from index 4 to 15: ay Aas been \n",
            "Final string: The ay Aas been long\n",
            "Length of the string: 20\n"
          ]
        }
      ]
    },
    {
      "cell_type": "code",
      "source": [],
      "metadata": {
        "id": "xbmS3ezazEZh"
      },
      "execution_count": null,
      "outputs": []
    }
  ]
}