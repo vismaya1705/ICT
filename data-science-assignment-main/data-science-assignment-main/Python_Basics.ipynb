{
  "nbformat": 4,
  "nbformat_minor": 0,
  "metadata": {
    "colab": {
      "provenance": [],
      "authorship_tag": "ABX9TyOLS+9vnbzXhWf7nBvvoCT3",
      "include_colab_link": true
    },
    "kernelspec": {
      "name": "python3",
      "display_name": "Python 3"
    },
    "language_info": {
      "name": "python"
    }
  },
  "cells": [
    {
      "cell_type": "markdown",
      "metadata": {
        "id": "view-in-github",
        "colab_type": "text"
      },
      "source": [
        "<a href=\"https://colab.research.google.com/github/Vismayamohan17/data-science-assignment/blob/main/Python_Basics.ipynb\" target=\"_parent\"><img src=\"https://colab.research.google.com/assets/colab-badge.svg\" alt=\"Open In Colab\"/></a>"
      ]
    },
    {
      "cell_type": "markdown",
      "source": [
        "Write a Python program which accepts the radius of a circle from the user\n",
        "and compute the area."
      ],
      "metadata": {
        "id": "O3etsFZ_0wxx"
      }
    },
    {
      "cell_type": "code",
      "execution_count": 1,
      "metadata": {
        "colab": {
          "base_uri": "https://localhost:8080/"
        },
        "id": "n9VHfTE20tX9",
        "outputId": "e72ef87a-adf8-4247-9ada-288f03130856"
      },
      "outputs": [
        {
          "output_type": "stream",
          "name": "stdout",
          "text": [
            "Enter the radius : 3\n",
            "Area =  28.259999999999998\n"
          ]
        }
      ],
      "source": [
        "radius=int(input(\"Enter the radius : \"))\n",
        "pi=3.14\n",
        "area=pi*radius*radius\n",
        "print(\"Area = \",area)"
      ]
    },
    {
      "cell_type": "markdown",
      "source": [
        "Write a Python Program to accept the details of a student like name, roll\n",
        "number and mark and display it.\n",
        "Sample input: Enter the name: Anisha\n",
        "Enter the roll number: 21\n",
        "Enter the mark: 78\n",
        "Sample output: Name: Anisha\n",
        "Roll No: 21\n",
        "Mark: 78"
      ],
      "metadata": {
        "id": "fSHQ_Q8B1Ey2"
      }
    },
    {
      "cell_type": "code",
      "source": [
        "name=input(\"Enter name : \")\n",
        "roll_no=int(input(\"Enter roll number : \"))\n",
        "mark=int(input(\"Enter mark : \"))\n",
        "print(\"Name : \",name)\n",
        "print(\"Roll No : \",roll_no)\n",
        "print(\"Mark : \",mark)"
      ],
      "metadata": {
        "colab": {
          "base_uri": "https://localhost:8080/"
        },
        "id": "NfEdc60A09j-",
        "outputId": "45e2b959-6a8a-4671-c235-89042c6f778e"
      },
      "execution_count": 2,
      "outputs": [
        {
          "output_type": "stream",
          "name": "stdout",
          "text": [
            "Enter name : Anisha\n",
            "Enter roll number : 21\n",
            "Enter mark : 78\n",
            "Name :  Anisha\n",
            "Roll No :  21\n",
            "Mark :  78\n"
          ]
        }
      ]
    },
    {
      "cell_type": "markdown",
      "source": [
        "Write a Python program to get the largest number from a list.\n",
        "Sample input: 12, 3, 47, 10\n",
        "Sample output: 47 is the largest number."
      ],
      "metadata": {
        "id": "Whgrkp1i1hXF"
      }
    },
    {
      "cell_type": "code",
      "source": [
        "numbers=[12,3,47,10]\n",
        "for i in numbers:\n",
        "  largest=max(numbers)\n",
        "print(f\"{largest} is the largest number\")"
      ],
      "metadata": {
        "colab": {
          "base_uri": "https://localhost:8080/"
        },
        "id": "wf-ariE91dFf",
        "outputId": "b0eb1e09-f2c2-4d98-f28e-9b757e3f7268"
      },
      "execution_count": 3,
      "outputs": [
        {
          "output_type": "stream",
          "name": "stdout",
          "text": [
            "47 is the largest number\n"
          ]
        }
      ]
    },
    {
      "cell_type": "markdown",
      "source": [
        ". Given a range of first 10 numbers, write a Python program to iterate from\n",
        "start number to the end number and print the sum of the current number\n",
        "and previous number.\n",
        "Sample input: 1….10\n",
        "Sample output: Current Number 1 Previous Number 0 Sum: 1 Current\n",
        "Number 2 Previous Number 1 Sum: 3 Current Number 3 Previous\n",
        "Number 2 Sum: 5… Current Number 10 Previous Number 9 Sum: 19"
      ],
      "metadata": {
        "id": "qCQA-cy12MJj"
      }
    },
    {
      "cell_type": "code",
      "source": [
        "start = 1\n",
        "end = 10\n",
        "previous_number = 0\n",
        "for current_number in range(start, end + 1):\n",
        "    current_sum = current_number + previous_number\n",
        "    print(f\"Current Number {current_number} Previous Number {previous_number} Sum: {current_sum}\")\n",
        "    previous_number = current_number\n",
        "\n",
        "\n",
        "\n",
        "\n"
      ],
      "metadata": {
        "colab": {
          "base_uri": "https://localhost:8080/"
        },
        "id": "pgKQvQkZ2G_T",
        "outputId": "3f8a9ff0-93ef-4c34-a916-608e82fea73e"
      },
      "execution_count": 4,
      "outputs": [
        {
          "output_type": "stream",
          "name": "stdout",
          "text": [
            "Current Number 1 Previous Number 0 Sum: 1\n",
            "Current Number 2 Previous Number 1 Sum: 3\n",
            "Current Number 3 Previous Number 2 Sum: 5\n",
            "Current Number 4 Previous Number 3 Sum: 7\n",
            "Current Number 5 Previous Number 4 Sum: 9\n",
            "Current Number 6 Previous Number 5 Sum: 11\n",
            "Current Number 7 Previous Number 6 Sum: 13\n",
            "Current Number 8 Previous Number 7 Sum: 15\n",
            "Current Number 9 Previous Number 8 Sum: 17\n",
            "Current Number 10 Previous Number 9 Sum: 19\n"
          ]
        }
      ]
    },
    {
      "cell_type": "markdown",
      "source": [
        "Write a Python program to print only those numbers which are divisible\n",
        "of 5.\n",
        "Sample input: 10, 20,33,46,55 Sample output: 10, 20, 55"
      ],
      "metadata": {
        "id": "-N5uoRw94P7E"
      }
    },
    {
      "cell_type": "code",
      "source": [
        "numbers=[10,20,33,46,55]\n",
        "for i in numbers:\n",
        "  if i % 5 == 0:\n",
        "    print(i)"
      ],
      "metadata": {
        "colab": {
          "base_uri": "https://localhost:8080/"
        },
        "id": "GdIZnbYx4EO7",
        "outputId": "68882a24-aa67-42ba-f4fb-a160f5ae0fb3"
      },
      "execution_count": 10,
      "outputs": [
        {
          "output_type": "stream",
          "name": "stdout",
          "text": [
            "10\n",
            "20\n",
            "55\n"
          ]
        }
      ]
    },
    {
      "cell_type": "markdown",
      "source": [
        "Write a Python program to check whether a number is prime or not.\n",
        "Sample input: Enter the number: 3\n",
        "Sample output: 3 is a prime number."
      ],
      "metadata": {
        "id": "uPtchoF04-G7"
      }
    },
    {
      "cell_type": "code",
      "source": [
        "num = int(input(\"Enter the number: \"))\n",
        "if num < 2:\n",
        "    print(f\"{num} is not a prime number.\")\n",
        "else:\n",
        "    is_prime = True\n",
        "    for i in range(2, num):\n",
        "        if num % i == 0:\n",
        "            is_prime = False\n",
        "            break\n",
        "    if is_prime:\n",
        "        print(f\"{num} is a prime number.\")\n",
        "    else:\n",
        "        print(f\"{num} is not a prime number.\")\n"
      ],
      "metadata": {
        "colab": {
          "base_uri": "https://localhost:8080/"
        },
        "id": "Poo__v4Y4iF7",
        "outputId": "06a977ea-7cfb-4bfb-f484-10e39385efaf"
      },
      "execution_count": 14,
      "outputs": [
        {
          "output_type": "stream",
          "name": "stdout",
          "text": [
            "Enter the number: 3\n",
            "3 is a prime number.\n"
          ]
        }
      ]
    },
    {
      "cell_type": "markdown",
      "source": [
        "Write a Python program to reverse a list using for loop.\n",
        "Sample input: 10,40,30,70\n",
        "Sample output: 70,30,40,10"
      ],
      "metadata": {
        "id": "HUqycwId6C3Z"
      }
    },
    {
      "cell_type": "code",
      "source": [
        "input_list = [10, 40, 30, 70]\n",
        "reversed_list = []\n",
        "for item in input_list[::-1]:\n",
        "    reversed_list.append(item)\n",
        "print(\"Reversed list:\", ', '.join(map(str, reversed_list)))\n"
      ],
      "metadata": {
        "colab": {
          "base_uri": "https://localhost:8080/"
        },
        "id": "flOfOh0e5ipH",
        "outputId": "08301ff6-f169-4a30-b73e-a1a37a0c44fd"
      },
      "execution_count": 15,
      "outputs": [
        {
          "output_type": "stream",
          "name": "stdout",
          "text": [
            "Reversed list: 70, 30, 40, 10\n"
          ]
        }
      ]
    },
    {
      "cell_type": "markdown",
      "source": [
        "Write a Python program to print the following pattern.\n",
        "*\n",
        "**\n",
        "***\n",
        "****:"
      ],
      "metadata": {
        "id": "0OomftRL6VG3"
      }
    },
    {
      "cell_type": "code",
      "source": [
        "num_rows = 4\n",
        "for i in range(1, num_rows + 1):\n",
        "    print('*' * i)\n"
      ],
      "metadata": {
        "colab": {
          "base_uri": "https://localhost:8080/"
        },
        "id": "j0Bia6Fq6Pfi",
        "outputId": "4c0e9f32-59b1-40c5-c128-41b0241ebd9c"
      },
      "execution_count": 16,
      "outputs": [
        {
          "output_type": "stream",
          "name": "stdout",
          "text": [
            "*\n",
            "**\n",
            "***\n",
            "****\n"
          ]
        }
      ]
    },
    {
      "cell_type": "markdown",
      "source": [
        "Write a Python program to find the maximum of three numbers\n",
        "Sample input: 34,12,7\n",
        "Sample output: 34"
      ],
      "metadata": {
        "id": "2ARWACp66keG"
      }
    },
    {
      "cell_type": "code",
      "source": [
        "numbers=[34,12,7]\n",
        "for i in numbers:\n",
        "  maximum=max(numbers)\n",
        "print(maximum)"
      ],
      "metadata": {
        "colab": {
          "base_uri": "https://localhost:8080/"
        },
        "id": "cT62tefj6hHG",
        "outputId": "e6124abc-d3e9-4823-c9a9-d352903d9ebb"
      },
      "execution_count": 19,
      "outputs": [
        {
          "output_type": "stream",
          "name": "stdout",
          "text": [
            "34\n"
          ]
        }
      ]
    },
    {
      "cell_type": "markdown",
      "source": [
        "Write a Python program to construct the following pattern, using a\n",
        "nested for loop. *\n",
        "**\n",
        "***\n",
        "****\n",
        "*****\n",
        "****\n",
        "***\n",
        "**\n",
        "*"
      ],
      "metadata": {
        "id": "P6yctqrB6zRL"
      }
    },
    {
      "cell_type": "code",
      "source": [
        "num_rows = 5\n",
        "for i in range(1, num_rows + 1):\n",
        "    print('*' * i)\n",
        "for i in range(num_rows - 1, 0, -1):\n",
        "    print('*' * i)\n"
      ],
      "metadata": {
        "colab": {
          "base_uri": "https://localhost:8080/"
        },
        "id": "zxc1TA3I6suJ",
        "outputId": "2d1d497f-6639-4104-d15f-5cf2c41c8237"
      },
      "execution_count": 20,
      "outputs": [
        {
          "output_type": "stream",
          "name": "stdout",
          "text": [
            "*\n",
            "**\n",
            "***\n",
            "****\n",
            "*****\n",
            "****\n",
            "***\n",
            "**\n",
            "*\n"
          ]
        }
      ]
    },
    {
      "cell_type": "code",
      "source": [],
      "metadata": {
        "id": "I2q2i-Vz7CsS"
      },
      "execution_count": null,
      "outputs": []
    }
  ]
}