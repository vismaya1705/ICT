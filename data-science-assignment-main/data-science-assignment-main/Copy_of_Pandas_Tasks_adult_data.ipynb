{
  "nbformat": 4,
  "nbformat_minor": 0,
  "metadata": {
    "colab": {
      "provenance": [],
      "include_colab_link": true
    },
    "kernelspec": {
      "name": "python3",
      "display_name": "Python 3"
    },
    "language_info": {
      "name": "python"
    }
  },
  "cells": [
    {
      "cell_type": "markdown",
      "metadata": {
        "id": "view-in-github",
        "colab_type": "text"
      },
      "source": [
        "<a href=\"https://colab.research.google.com/github/Vismayamohan17/data-science-assignment/blob/main/Copy_of_Pandas_Tasks_adult_data.ipynb\" target=\"_parent\"><img src=\"https://colab.research.google.com/assets/colab-badge.svg\" alt=\"Open In Colab\"/></a>"
      ]
    },
    {
      "cell_type": "code",
      "execution_count": null,
      "metadata": {
        "id": "JkDcsOfDRC5o"
      },
      "outputs": [],
      "source": [
        "import pandas as pd\n",
        "\n"
      ]
    },
    {
      "cell_type": "markdown",
      "source": [
        "read the data"
      ],
      "metadata": {
        "id": "oeZnLikWRDs_"
      }
    },
    {
      "cell_type": "code",
      "source": [
        "data = pd.read_csv(\"/content/adult.csv\")"
      ],
      "metadata": {
        "id": "f6v3MFa-RF5i"
      },
      "execution_count": null,
      "outputs": []
    },
    {
      "cell_type": "markdown",
      "source": [
        "Display the first 5 rows of the dataset."
      ],
      "metadata": {
        "id": "M0eR7nLZRGeT"
      }
    },
    {
      "cell_type": "code",
      "source": [
        "print(data.head())"
      ],
      "metadata": {
        "id": "hnbbT3PpRHri",
        "outputId": "f69f8107-4768-40b0-8bc6-7c7f1bd2fd57",
        "colab": {
          "base_uri": "https://localhost:8080/"
        }
      },
      "execution_count": null,
      "outputs": [
        {
          "output_type": "stream",
          "name": "stdout",
          "text": [
            "   age  workclass  fnlwgt     education  educational-num      marital-status  \\\n",
            "0   25    Private  226802          11th                7       Never-married   \n",
            "1   38    Private   89814       HS-grad                9  Married-civ-spouse   \n",
            "2   28  Local-gov  336951    Assoc-acdm               12  Married-civ-spouse   \n",
            "3   44    Private  160323  Some-college               10  Married-civ-spouse   \n",
            "4   18          ?  103497  Some-college               10       Never-married   \n",
            "\n",
            "          occupation relationship   race  gender  capital-gain  capital-loss  \\\n",
            "0  Machine-op-inspct    Own-child  Black    Male             0             0   \n",
            "1    Farming-fishing      Husband  White    Male             0             0   \n",
            "2    Protective-serv      Husband  White    Male             0             0   \n",
            "3  Machine-op-inspct      Husband  Black    Male          7688             0   \n",
            "4                  ?    Own-child  White  Female             0             0   \n",
            "\n",
            "   hours-per-week native-country income  \n",
            "0              40  United-States  <=50K  \n",
            "1              50  United-States  <=50K  \n",
            "2              40  United-States   >50K  \n",
            "3              40  United-States   >50K  \n",
            "4              30  United-States  <=50K  \n"
          ]
        }
      ]
    },
    {
      "cell_type": "markdown",
      "source": [
        "summary of the DataFrame"
      ],
      "metadata": {
        "id": "asqYVwG_RIBb"
      }
    },
    {
      "cell_type": "code",
      "source": [
        "print(data.info())\n"
      ],
      "metadata": {
        "id": "cUkEutZLRMia",
        "outputId": "d5a6061c-00a2-4c76-deb4-db1092b9d846",
        "colab": {
          "base_uri": "https://localhost:8080/"
        }
      },
      "execution_count": null,
      "outputs": [
        {
          "output_type": "stream",
          "name": "stdout",
          "text": [
            "<class 'pandas.core.frame.DataFrame'>\n",
            "RangeIndex: 48842 entries, 0 to 48841\n",
            "Data columns (total 15 columns):\n",
            " #   Column           Non-Null Count  Dtype \n",
            "---  ------           --------------  ----- \n",
            " 0   age              48842 non-null  int64 \n",
            " 1   workclass        48842 non-null  object\n",
            " 2   fnlwgt           48842 non-null  int64 \n",
            " 3   education        48842 non-null  object\n",
            " 4   educational-num  48842 non-null  int64 \n",
            " 5   marital-status   48842 non-null  object\n",
            " 6   occupation       48842 non-null  object\n",
            " 7   relationship     48842 non-null  object\n",
            " 8   race             48842 non-null  object\n",
            " 9   gender           48842 non-null  object\n",
            " 10  capital-gain     48842 non-null  int64 \n",
            " 11  capital-loss     48842 non-null  int64 \n",
            " 12  hours-per-week   48842 non-null  int64 \n",
            " 13  native-country   48842 non-null  object\n",
            " 14  income           48842 non-null  object\n",
            "dtypes: int64(6), object(9)\n",
            "memory usage: 5.6+ MB\n",
            "None\n"
          ]
        }
      ]
    },
    {
      "cell_type": "markdown",
      "source": [
        "descriptive statistics for numeric columns"
      ],
      "metadata": {
        "id": "owO_78hGRPYK"
      }
    },
    {
      "cell_type": "code",
      "source": [
        "descriptive_stats = data.describe()\n",
        "print(descriptive_stats)"
      ],
      "metadata": {
        "id": "egJOKtYGRQIW",
        "outputId": "8766ebb0-1ac1-4267-c496-be26dea74b1c",
        "colab": {
          "base_uri": "https://localhost:8080/"
        }
      },
      "execution_count": null,
      "outputs": [
        {
          "output_type": "stream",
          "name": "stdout",
          "text": [
            "                age        fnlwgt  educational-num  capital-gain  \\\n",
            "count  48842.000000  4.884200e+04     48842.000000  48842.000000   \n",
            "mean      38.643585  1.896641e+05        10.078089   1079.067626   \n",
            "std       13.710510  1.056040e+05         2.570973   7452.019058   \n",
            "min       17.000000  1.228500e+04         1.000000      0.000000   \n",
            "25%       28.000000  1.175505e+05         9.000000      0.000000   \n",
            "50%       37.000000  1.781445e+05        10.000000      0.000000   \n",
            "75%       48.000000  2.376420e+05        12.000000      0.000000   \n",
            "max       90.000000  1.490400e+06        16.000000  99999.000000   \n",
            "\n",
            "       capital-loss  hours-per-week  \n",
            "count  48842.000000    48842.000000  \n",
            "mean      87.502314       40.422382  \n",
            "std      403.004552       12.391444  \n",
            "min        0.000000        1.000000  \n",
            "25%        0.000000       40.000000  \n",
            "50%        0.000000       40.000000  \n",
            "75%        0.000000       45.000000  \n",
            "max     4356.000000       99.000000  \n"
          ]
        }
      ]
    },
    {
      "cell_type": "markdown",
      "source": [
        "Display the column names of the DataFrame."
      ],
      "metadata": {
        "id": "3gcgaLEfRSjj"
      }
    },
    {
      "cell_type": "code",
      "source": [
        "print(data.columns)"
      ],
      "metadata": {
        "id": "T5xzlLqtRTYT",
        "outputId": "633dafbd-00c8-44eb-db24-59e47387c6d8",
        "colab": {
          "base_uri": "https://localhost:8080/"
        }
      },
      "execution_count": null,
      "outputs": [
        {
          "output_type": "stream",
          "name": "stdout",
          "text": [
            "Index(['age', 'workclass', 'fnlwgt', 'education', 'educational-num',\n",
            "       'marital-status', 'occupation', 'relationship', 'race', 'gender',\n",
            "       'capital-gain', 'capital-loss', 'hours-per-week', 'native-country',\n",
            "       'income'],\n",
            "      dtype='object')\n"
          ]
        }
      ]
    },
    {
      "cell_type": "markdown",
      "source": [
        "unique values in the 'workclass' column."
      ],
      "metadata": {
        "id": "r-w_MuEvRVyk"
      }
    },
    {
      "cell_type": "code",
      "source": [
        "unique_workclass = data['workclass'].unique()\n",
        "print(unique_workclass)"
      ],
      "metadata": {
        "id": "GE2XirkjRXAc",
        "outputId": "a6e9e62c-d9fc-4134-eeca-5c312fd38b23",
        "colab": {
          "base_uri": "https://localhost:8080/"
        }
      },
      "execution_count": null,
      "outputs": [
        {
          "output_type": "stream",
          "name": "stdout",
          "text": [
            "['Private' 'Local-gov' '?' 'Self-emp-not-inc' 'Federal-gov' 'State-gov'\n",
            " 'Self-emp-inc' 'Without-pay' 'Never-worked']\n"
          ]
        }
      ]
    },
    {
      "cell_type": "markdown",
      "source": [
        "Create a new column 'income_binary' where <=50K is 0 and >50K is 1."
      ],
      "metadata": {
        "id": "9lA9RnDCRZYf"
      }
    },
    {
      "cell_type": "code",
      "source": [
        "data['income_binary'] = data['income'].apply(lambda x: 0 if x == '<=50K' else 1)\n",
        "print(data[['income', 'income_binary']].head())"
      ],
      "metadata": {
        "id": "tcSb1bMLRchy",
        "outputId": "d8813a27-9d45-4398-d6b2-02cd188cb3b4",
        "colab": {
          "base_uri": "https://localhost:8080/"
        }
      },
      "execution_count": null,
      "outputs": [
        {
          "output_type": "stream",
          "name": "stdout",
          "text": [
            "  income  income_binary\n",
            "0  <=50K              0\n",
            "1  <=50K              0\n",
            "2   >50K              1\n",
            "3   >50K              1\n",
            "4  <=50K              0\n"
          ]
        }
      ]
    },
    {
      "cell_type": "markdown",
      "source": [
        "Create a new column 'age_group' categorizing ages into 'Youth' (< 30), 'Adult' (30-60), and 'Senior' (60+)."
      ],
      "metadata": {
        "id": "OHGJMko4Rc8r"
      }
    },
    {
      "cell_type": "code",
      "source": [
        "data['age_group'] = data['age'].apply(lambda x: 'Youth' if x < 30 else ('Adult' if x <= 60 else 'Senior'))\n",
        "print(data[['age', 'age_group']].head())"
      ],
      "metadata": {
        "id": "e3Jb3Cr0ReFT",
        "outputId": "54caefb6-9d77-4e4c-dbca-f469f7defdb8",
        "colab": {
          "base_uri": "https://localhost:8080/"
        }
      },
      "execution_count": null,
      "outputs": [
        {
          "output_type": "stream",
          "name": "stdout",
          "text": [
            "   age age_group\n",
            "0   25     Youth\n",
            "1   38     Adult\n",
            "2   28     Youth\n",
            "3   44     Adult\n",
            "4   18     Youth\n"
          ]
        }
      ]
    },
    {
      "cell_type": "markdown",
      "source": [
        "Rename the 'educational-num' column to 'education_num'."
      ],
      "metadata": {
        "id": "lQE44AW5Ref1"
      }
    },
    {
      "cell_type": "code",
      "source": [
        "data.rename(columns={'educational-num': 'education_num'}, inplace=True)\n",
        "print(data.head())"
      ],
      "metadata": {
        "id": "jW0Ml7yCRkhm",
        "outputId": "ca02c20f-159c-400c-ffbc-9f1c2d3915f9",
        "colab": {
          "base_uri": "https://localhost:8080/"
        }
      },
      "execution_count": null,
      "outputs": [
        {
          "output_type": "stream",
          "name": "stdout",
          "text": [
            "   age  workclass  fnlwgt     education  education_num      marital-status  \\\n",
            "0   25    Private  226802          11th              7       Never-married   \n",
            "1   38    Private   89814       HS-grad              9  Married-civ-spouse   \n",
            "2   28  Local-gov  336951    Assoc-acdm             12  Married-civ-spouse   \n",
            "3   44    Private  160323  Some-college             10  Married-civ-spouse   \n",
            "4   18    Unknown  103497  Some-college             10       Never-married   \n",
            "\n",
            "          occupation relationship   race  gender  capital-gain  capital-loss  \\\n",
            "0  Machine-op-inspct    Own-child  Black    Male             0             0   \n",
            "1    Farming-fishing      Husband  White    Male             0             0   \n",
            "2    Protective-serv      Husband  White    Male             0             0   \n",
            "3  Machine-op-inspct      Husband  Black    Male          7688             0   \n",
            "4            Unknown    Own-child  White  Female             0             0   \n",
            "\n",
            "   hours-per-week native-country income  income_binary age_group  \n",
            "0              40  United-States  <=50K              0     Youth  \n",
            "1              50  United-States  <=50K              0     Adult  \n",
            "2              40  United-States   >50K              1     Youth  \n",
            "3              40  United-States   >50K              1     Adult  \n",
            "4              30  United-States  <=50K              0     Youth  \n"
          ]
        }
      ]
    },
    {
      "cell_type": "markdown",
      "source": [
        "Replace the missing values represented by '?' in 'workclass' and 'occupation' columns with 'Unknown'."
      ],
      "metadata": {
        "id": "QZnM8h18Rk2m"
      }
    },
    {
      "cell_type": "code",
      "source": [
        "Calculate the average age for each workclass."
      ],
      "metadata": {
        "id": "LXB0QuTdRixM"
      },
      "execution_count": null,
      "outputs": []
    },
    {
      "cell_type": "code",
      "source": [
        "data['workclass'] = data['workclass'].replace('?', 'Unknown')\n",
        "data['occupation'] = data['occupation'].replace('?', 'Unknown')\n",
        "average_age_by_workclass = data.groupby('workclass')['age'].mean()\n",
        "print(data[['workclass', 'occupation']].head())\n",
        "print(average_age_by_workclass)"
      ],
      "metadata": {
        "id": "OMykaJ26Rvdz",
        "outputId": "b7336d4c-5869-4db4-aab4-febeadbe188b",
        "colab": {
          "base_uri": "https://localhost:8080/"
        }
      },
      "execution_count": null,
      "outputs": [
        {
          "output_type": "stream",
          "name": "stdout",
          "text": [
            "   workclass         occupation\n",
            "0    Private  Machine-op-inspct\n",
            "1    Private    Farming-fishing\n",
            "2  Local-gov    Protective-serv\n",
            "3    Private  Machine-op-inspct\n",
            "4    Unknown            Unknown\n",
            "workclass\n",
            "Federal-gov         42.577514\n",
            "Local-gov           41.676020\n",
            "Never-worked        19.900000\n",
            "Private             36.903144\n",
            "Self-emp-inc        45.799410\n",
            "Self-emp-not-inc    45.332470\n",
            "State-gov           39.512367\n",
            "Unknown             40.141122\n",
            "Without-pay         47.285714\n",
            "Name: age, dtype: float64\n"
          ]
        }
      ]
    },
    {
      "cell_type": "markdown",
      "source": [
        "Find the total capital-gain for each gender."
      ],
      "metadata": {
        "id": "RI77BsjkRxaj"
      }
    },
    {
      "cell_type": "code",
      "source": [
        "total_capital_gain_by_gender = data.groupby('gender')['capital-gain'].sum()\n",
        "print(total_capital_gain_by_gender)"
      ],
      "metadata": {
        "id": "Fy6MdoLLR1sw",
        "outputId": "4508b9ad-b419-406b-e12b-3e117891cc0c",
        "colab": {
          "base_uri": "https://localhost:8080/"
        }
      },
      "execution_count": null,
      "outputs": [
        {
          "output_type": "stream",
          "name": "stdout",
          "text": [
            "gender\n",
            "Female     9403120\n",
            "Male      43300701\n",
            "Name: capital-gain, dtype: int64\n"
          ]
        }
      ]
    },
    {
      "cell_type": "markdown",
      "source": [
        "Get the count of each marital-status category."
      ],
      "metadata": {
        "id": "nRIhYKEURrLO"
      }
    },
    {
      "cell_type": "code",
      "source": [
        "marital_status_counts = data['marital-status'].value_counts()\n",
        "print(marital_status_counts)"
      ],
      "metadata": {
        "id": "1maOMDw4R5UK",
        "outputId": "d6e9dd4c-e0f3-47cc-a89b-e1a2d7df57df",
        "colab": {
          "base_uri": "https://localhost:8080/"
        }
      },
      "execution_count": null,
      "outputs": [
        {
          "output_type": "stream",
          "name": "stdout",
          "text": [
            "marital-status\n",
            "Married-civ-spouse       22379\n",
            "Never-married            16117\n",
            "Divorced                  6633\n",
            "Separated                 1530\n",
            "Widowed                   1518\n",
            "Married-spouse-absent      628\n",
            "Married-AF-spouse           37\n",
            "Name: count, dtype: int64\n"
          ]
        }
      ]
    },
    {
      "cell_type": "markdown",
      "source": [
        "Find the mean hours-per-week worked by individuals in different education levels."
      ],
      "metadata": {
        "id": "c31zHtUjR5qo"
      }
    },
    {
      "cell_type": "code",
      "source": [
        "mean_hours_by_education = data.groupby('education')['hours-per-week'].mean()\n",
        "print(mean_hours_by_education)"
      ],
      "metadata": {
        "id": "2L4CvtUyR8Fi",
        "outputId": "51b693b8-3d31-41bc-a746-b2b0fa123e5f",
        "colab": {
          "base_uri": "https://localhost:8080/"
        }
      },
      "execution_count": null,
      "outputs": [
        {
          "output_type": "stream",
          "name": "stdout",
          "text": [
            "education\n",
            "10th            36.986321\n",
            "11th            33.952539\n",
            "12th            35.374429\n",
            "1st-4th         38.761134\n",
            "5th-6th         38.923379\n",
            "7th-8th         39.003141\n",
            "9th             38.359788\n",
            "Assoc-acdm      40.809494\n",
            "Assoc-voc       41.658418\n",
            "Bachelors       42.482492\n",
            "Doctorate       46.582492\n",
            "HS-grad         40.640775\n",
            "Masters         43.575837\n",
            "Preschool       36.566265\n",
            "Prof-school     47.579137\n",
            "Some-college    38.865784\n",
            "Name: hours-per-week, dtype: float64\n"
          ]
        }
      ]
    },
    {
      "cell_type": "markdown",
      "source": [
        "Calculate the mean, median, and standard deviation of 'fnlwgt' for each race."
      ],
      "metadata": {
        "id": "4qloBOBRR8Xj"
      }
    },
    {
      "cell_type": "code",
      "source": [
        "stats_by_race = data.groupby('race')['fnlwgt'].agg(['mean', 'median', 'std'])\n",
        "print(stats_by_race)"
      ],
      "metadata": {
        "id": "tvmvGXFBR_AG",
        "outputId": "7adc3b19-e11c-44b8-b171-b2937f264bf0",
        "colab": {
          "base_uri": "https://localhost:8080/"
        }
      },
      "execution_count": null,
      "outputs": [
        {
          "output_type": "stream",
          "name": "stdout",
          "text": [
            "                             mean    median            std\n",
            "race                                                      \n",
            "Amer-Indian-Eskimo  120110.985106  101579.0   94655.908850\n",
            "Asian-Pac-Islander  159796.946675  139850.0   86997.647681\n",
            "Black               230485.070438  208266.0  125445.929357\n",
            "Other               195715.689655  188066.5   94063.712981\n",
            "White               186894.995738  177287.0  102637.466726\n"
          ]
        }
      ]
    },
    {
      "cell_type": "markdown",
      "source": [
        "Get the unique values and their counts for the 'native-country' column"
      ],
      "metadata": {
        "id": "dEGRU01lR_2X"
      }
    },
    {
      "cell_type": "code",
      "source": [
        "native_country_counts = data['native-country'].value_counts()\n",
        "print(native_country_counts)"
      ],
      "metadata": {
        "id": "pxp2d2JTSE1q",
        "outputId": "7d38ebbf-051b-41dd-c917-1ac827f758ce",
        "colab": {
          "base_uri": "https://localhost:8080/"
        }
      },
      "execution_count": null,
      "outputs": [
        {
          "output_type": "stream",
          "name": "stdout",
          "text": [
            "native-country\n",
            "United-States                 43832\n",
            "Mexico                          951\n",
            "?                               857\n",
            "Philippines                     295\n",
            "Germany                         206\n",
            "Puerto-Rico                     184\n",
            "Canada                          182\n",
            "El-Salvador                     155\n",
            "India                           151\n",
            "Cuba                            138\n",
            "England                         127\n",
            "China                           122\n",
            "South                           115\n",
            "Jamaica                         106\n",
            "Italy                           105\n",
            "Dominican-Republic              103\n",
            "Japan                            92\n",
            "Guatemala                        88\n",
            "Poland                           87\n",
            "Vietnam                          86\n",
            "Columbia                         85\n",
            "Haiti                            75\n",
            "Portugal                         67\n",
            "Taiwan                           65\n",
            "Iran                             59\n",
            "Greece                           49\n",
            "Nicaragua                        49\n",
            "Peru                             46\n",
            "Ecuador                          45\n",
            "France                           38\n",
            "Ireland                          37\n",
            "Hong                             30\n",
            "Thailand                         30\n",
            "Cambodia                         28\n",
            "Trinadad&Tobago                  27\n",
            "Laos                             23\n",
            "Yugoslavia                       23\n",
            "Outlying-US(Guam-USVI-etc)       23\n",
            "Scotland                         21\n",
            "Honduras                         20\n",
            "Hungary                          19\n",
            "Holand-Netherlands                1\n",
            "Name: count, dtype: int64\n"
          ]
        }
      ]
    },
    {
      "cell_type": "markdown",
      "source": [
        "Filter the dataset to include only individuals with income >50K."
      ],
      "metadata": {
        "id": "fr_Lg7kzUClD"
      }
    },
    {
      "cell_type": "code",
      "source": [
        "filtered_data = data[data['income'] == '>50K']\n",
        "print(filtered_data.head())"
      ],
      "metadata": {
        "id": "WsyyQR9fUDn5",
        "outputId": "faab11cb-7e00-43be-b1a9-48e40ff91fed",
        "colab": {
          "base_uri": "https://localhost:8080/"
        }
      },
      "execution_count": null,
      "outputs": [
        {
          "output_type": "stream",
          "name": "stdout",
          "text": [
            "    age         workclass  fnlwgt     education  education_num  \\\n",
            "2    28         Local-gov  336951    Assoc-acdm             12   \n",
            "3    44           Private  160323  Some-college             10   \n",
            "7    63  Self-emp-not-inc  104626   Prof-school             15   \n",
            "10   65           Private  184454       HS-grad              9   \n",
            "14   48           Private  279724       HS-grad              9   \n",
            "\n",
            "        marital-status         occupation relationship   race gender  \\\n",
            "2   Married-civ-spouse    Protective-serv      Husband  White   Male   \n",
            "3   Married-civ-spouse  Machine-op-inspct      Husband  Black   Male   \n",
            "7   Married-civ-spouse     Prof-specialty      Husband  White   Male   \n",
            "10  Married-civ-spouse  Machine-op-inspct      Husband  White   Male   \n",
            "14  Married-civ-spouse  Machine-op-inspct      Husband  White   Male   \n",
            "\n",
            "    capital-gain  capital-loss  hours-per-week native-country income  \\\n",
            "2              0             0              40  United-States   >50K   \n",
            "3           7688             0              40  United-States   >50K   \n",
            "7           3103             0              32  United-States   >50K   \n",
            "10          6418             0              40  United-States   >50K   \n",
            "14          3103             0              48  United-States   >50K   \n",
            "\n",
            "    income_binary age_group  \n",
            "2               1     Youth  \n",
            "3               1     Adult  \n",
            "7               1    Senior  \n",
            "10              1    Senior  \n",
            "14              1     Adult  \n"
          ]
        }
      ]
    },
    {
      "cell_type": "markdown",
      "source": [
        "Sort the dataset by age in descending order."
      ],
      "metadata": {
        "id": "19-aDl96UD9x"
      }
    },
    {
      "cell_type": "code",
      "source": [
        "sorted_data = data.sort_values(by='age', ascending=False)\n",
        "print(sorted_data.head())"
      ],
      "metadata": {
        "id": "dt_BdbMfUIQx",
        "outputId": "1507b85d-a42e-4228-c20f-412397f85742",
        "colab": {
          "base_uri": "https://localhost:8080/"
        }
      },
      "execution_count": null,
      "outputs": [
        {
          "output_type": "stream",
          "name": "stdout",
          "text": [
            "       age  workclass  fnlwgt education  education_num      marital-status  \\\n",
            "40519   90    Unknown  166343   1st-4th              2             Widowed   \n",
            "21553   90    Private  141758       9th              5       Never-married   \n",
            "47977   90    Unknown  313986   HS-grad              9  Married-civ-spouse   \n",
            "21651   90  Local-gov  227796   Masters             14  Married-civ-spouse   \n",
            "41584   90    Unknown  175444   7th-8th              4           Separated   \n",
            "\n",
            "            occupation   relationship   race  gender  capital-gain  \\\n",
            "40519          Unknown  Not-in-family  Black  Female             0   \n",
            "21553     Adm-clerical  Not-in-family  White  Female             0   \n",
            "47977          Unknown        Husband  White    Male             0   \n",
            "21651  Exec-managerial        Husband  White    Male         20051   \n",
            "41584          Unknown  Not-in-family  White  Female             0   \n",
            "\n",
            "       capital-loss  hours-per-week native-country income  income_binary  \\\n",
            "40519             0              40  United-States  <=50K              0   \n",
            "21553             0              40  United-States  <=50K              0   \n",
            "47977             0              40  United-States   >50K              1   \n",
            "21651             0              60  United-States   >50K              1   \n",
            "41584             0              15  United-States  <=50K              0   \n",
            "\n",
            "      age_group  \n",
            "40519    Senior  \n",
            "21553    Senior  \n",
            "47977    Senior  \n",
            "21651    Senior  \n",
            "41584    Senior  \n"
          ]
        }
      ]
    },
    {
      "cell_type": "markdown",
      "source": [
        "Filter the dataset to include only individuals who work more than 40 hours per week.\n",
        "\n"
      ],
      "metadata": {
        "id": "aHuVJpuWUHj6"
      }
    },
    {
      "cell_type": "code",
      "source": [
        "filtered_data = data[data['hours-per-week'] > 40]\n",
        "print(filtered_data.head())"
      ],
      "metadata": {
        "id": "H8-HcaOwWeTE",
        "outputId": "bdb715c0-aef2-4815-91a4-82ed9ac7abfb",
        "colab": {
          "base_uri": "https://localhost:8080/"
        }
      },
      "execution_count": null,
      "outputs": [
        {
          "output_type": "stream",
          "name": "stdout",
          "text": [
            "    age workclass  fnlwgt  education  education_num      marital-status  \\\n",
            "1    38   Private   89814    HS-grad              9  Married-civ-spouse   \n",
            "14   48   Private  279724    HS-grad              9  Married-civ-spouse   \n",
            "15   43   Private  346189    Masters             14  Married-civ-spouse   \n",
            "19   40   Private   85019  Doctorate             16  Married-civ-spouse   \n",
            "20   34   Private  107914  Bachelors             13  Married-civ-spouse   \n",
            "\n",
            "           occupation relationship                race gender  capital-gain  \\\n",
            "1     Farming-fishing      Husband               White   Male             0   \n",
            "14  Machine-op-inspct      Husband               White   Male          3103   \n",
            "15    Exec-managerial      Husband               White   Male             0   \n",
            "19     Prof-specialty      Husband  Asian-Pac-Islander   Male             0   \n",
            "20       Tech-support      Husband               White   Male             0   \n",
            "\n",
            "    capital-loss  hours-per-week native-country income  income_binary  \\\n",
            "1              0              50  United-States  <=50K              0   \n",
            "14             0              48  United-States   >50K              1   \n",
            "15             0              50  United-States   >50K              1   \n",
            "19             0              45              ?   >50K              1   \n",
            "20             0              47  United-States   >50K              1   \n",
            "\n",
            "   age_group  \n",
            "1      Adult  \n",
            "14     Adult  \n",
            "15     Adult  \n",
            "19     Adult  \n",
            "20     Adult  \n"
          ]
        }
      ]
    },
    {
      "cell_type": "code",
      "source": [
        "Calculate the percentage of missing values in each column."
      ],
      "metadata": {
        "id": "7ROe3CCRWmB1"
      },
      "execution_count": null,
      "outputs": []
    },
    {
      "cell_type": "code",
      "source": [
        "missing_values_count = data.isnull().sum()\n",
        "percentage_missing = (missing_values_count / len(data)) * 100\n",
        "print(percentage_missing)"
      ],
      "metadata": {
        "id": "JZMPlZG6WnNN",
        "outputId": "bb93d05f-40f7-4169-8291-ea665656624e",
        "colab": {
          "base_uri": "https://localhost:8080/"
        }
      },
      "execution_count": null,
      "outputs": [
        {
          "output_type": "stream",
          "name": "stdout",
          "text": [
            "age               0.0\n",
            "workclass         0.0\n",
            "fnlwgt            0.0\n",
            "education         0.0\n",
            "education_num     0.0\n",
            "marital-status    0.0\n",
            "occupation        0.0\n",
            "relationship      0.0\n",
            "race              0.0\n",
            "gender            0.0\n",
            "capital-gain      0.0\n",
            "capital-loss      0.0\n",
            "hours-per-week    0.0\n",
            "native-country    0.0\n",
            "income            0.0\n",
            "income_binary     0.0\n",
            "age_group         0.0\n",
            "dtype: float64\n"
          ]
        }
      ]
    },
    {
      "cell_type": "markdown",
      "source": [
        "Calculate the median income by education level and gender."
      ],
      "metadata": {
        "id": "UNXEa2PdWnrx"
      }
    },
    {
      "cell_type": "code",
      "source": [
        "median_income = data.groupby(['education', 'gender'])['income_binary'].median()\n",
        "print(median_income)\n"
      ],
      "metadata": {
        "id": "OOwioDK6WwlN",
        "outputId": "80779429-f9df-494a-c8fc-a2bc3c294379",
        "colab": {
          "base_uri": "https://localhost:8080/"
        }
      },
      "execution_count": null,
      "outputs": [
        {
          "output_type": "stream",
          "name": "stdout",
          "text": [
            "education     gender\n",
            "10th          Female    0.0\n",
            "              Male      0.0\n",
            "11th          Female    0.0\n",
            "              Male      0.0\n",
            "12th          Female    0.0\n",
            "              Male      0.0\n",
            "1st-4th       Female    0.0\n",
            "              Male      0.0\n",
            "5th-6th       Female    0.0\n",
            "              Male      0.0\n",
            "7th-8th       Female    0.0\n",
            "              Male      0.0\n",
            "9th           Female    0.0\n",
            "              Male      0.0\n",
            "Assoc-acdm    Female    0.0\n",
            "              Male      0.0\n",
            "Assoc-voc     Female    0.0\n",
            "              Male      0.0\n",
            "Bachelors     Female    0.0\n",
            "              Male      1.0\n",
            "Doctorate     Female    1.0\n",
            "              Male      1.0\n",
            "HS-grad       Female    0.0\n",
            "              Male      0.0\n",
            "Masters       Female    0.0\n",
            "              Male      1.0\n",
            "Preschool     Female    0.0\n",
            "              Male      0.0\n",
            "Prof-school   Female    0.0\n",
            "              Male      1.0\n",
            "Some-college  Female    0.0\n",
            "              Male      0.0\n",
            "Name: income_binary, dtype: float64\n"
          ]
        }
      ]
    },
    {
      "cell_type": "markdown",
      "source": [
        "Find the top 3 occupations with the highest average capital-gain."
      ],
      "metadata": {
        "id": "gWX7xURdWymB"
      }
    },
    {
      "cell_type": "code",
      "source": [
        "average_capital_gain_by_occupation = data.groupby('occupation')['capital-gain'].mean()\n",
        "sorted_occupations = average_capital_gain_by_occupation.sort_values(ascending=False)\n",
        "top_3_occupations = sorted_occupations.head(3)\n",
        "print(top_3_occupations)\n"
      ],
      "metadata": {
        "id": "r0KetkkoXAeD",
        "outputId": "3bfba762-f75f-4580-935d-7c67e3779b1b",
        "colab": {
          "base_uri": "https://localhost:8080/"
        }
      },
      "execution_count": null,
      "outputs": [
        {
          "output_type": "stream",
          "name": "stdout",
          "text": [
            "occupation\n",
            "Prof-specialty     2745.918017\n",
            "Exec-managerial    2277.755504\n",
            "Sales              1266.898256\n",
            "Name: capital-gain, dtype: float64\n"
          ]
        }
      ]
    },
    {
      "cell_type": "markdown",
      "source": [
        "Filter the dataset to include individuals who are 'Married-civ-spouse' and have an income >50K."
      ],
      "metadata": {
        "id": "7A9gkvQsXGO_"
      }
    },
    {
      "cell_type": "code",
      "source": [
        "filtered_data = data[(data['marital-status'] == 'Married-civ-spouse') & (data['income'] == '>50K')]\n",
        "print(filtered_data.head())"
      ],
      "metadata": {
        "id": "x97bC-MPXHGP",
        "outputId": "30bec8fd-4d6a-4742-97ed-b0f08ef6805c",
        "colab": {
          "base_uri": "https://localhost:8080/"
        }
      },
      "execution_count": null,
      "outputs": [
        {
          "output_type": "stream",
          "name": "stdout",
          "text": [
            "    age         workclass  fnlwgt     education  education_num  \\\n",
            "2    28         Local-gov  336951    Assoc-acdm             12   \n",
            "3    44           Private  160323  Some-college             10   \n",
            "7    63  Self-emp-not-inc  104626   Prof-school             15   \n",
            "10   65           Private  184454       HS-grad              9   \n",
            "14   48           Private  279724       HS-grad              9   \n",
            "\n",
            "        marital-status         occupation relationship   race gender  \\\n",
            "2   Married-civ-spouse    Protective-serv      Husband  White   Male   \n",
            "3   Married-civ-spouse  Machine-op-inspct      Husband  Black   Male   \n",
            "7   Married-civ-spouse     Prof-specialty      Husband  White   Male   \n",
            "10  Married-civ-spouse  Machine-op-inspct      Husband  White   Male   \n",
            "14  Married-civ-spouse  Machine-op-inspct      Husband  White   Male   \n",
            "\n",
            "    capital-gain  capital-loss  hours-per-week native-country income  \\\n",
            "2              0             0              40  United-States   >50K   \n",
            "3           7688             0              40  United-States   >50K   \n",
            "7           3103             0              32  United-States   >50K   \n",
            "10          6418             0              40  United-States   >50K   \n",
            "14          3103             0              48  United-States   >50K   \n",
            "\n",
            "    income_binary age_group  \n",
            "2               1     Youth  \n",
            "3               1     Adult  \n",
            "7               1    Senior  \n",
            "10              1    Senior  \n",
            "14              1     Adult  \n"
          ]
        }
      ]
    },
    {
      "cell_type": "code",
      "source": [],
      "metadata": {
        "id": "mQebGrBpbcRX"
      },
      "execution_count": null,
      "outputs": []
    }
  ]
}